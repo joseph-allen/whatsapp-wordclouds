{
 "cells": [
  {
   "cell_type": "code",
   "execution_count": 6,
   "metadata": {},
   "outputs": [
    {
     "name": "stdout",
     "output_type": "stream",
     "text": [
      "Collecting textgenrnn\n",
      "  Using cached https://files.pythonhosted.org/packages/27/60/419daf7e2d87bcafc6f0f65736ce76e5cc83cebbae758dd59b4c1fae99cd/textgenrnn-2.0.0.tar.gz\n",
      "Requirement already satisfied: h5py in /Users/joern/anaconda3/envs/Python36/lib/python3.6/site-packages (from textgenrnn) (2.9.0)\n",
      "Requirement already satisfied: scikit-learn in /Users/joern/anaconda3/envs/Python36/lib/python3.6/site-packages (from textgenrnn) (0.21.2)\n",
      "Collecting tqdm (from textgenrnn)\n",
      "\u001b[?25l  Downloading https://files.pythonhosted.org/packages/c9/40/058b12e8ba10e35f89c9b1fdfc2d4c7f8c05947df2d5eb3c7b258019fda0/tqdm-4.46.0-py2.py3-none-any.whl (63kB)\n",
      "\u001b[K     |████████████████████████████████| 71kB 2.2MB/s \n",
      "\u001b[?25hCollecting keras (from textgenrnn)\n",
      "  Using cached https://files.pythonhosted.org/packages/ad/fd/6bfe87920d7f4fd475acd28500a42482b6b84479832bdc0fe9e589a60ceb/Keras-2.3.1-py2.py3-none-any.whl\n",
      "Collecting tensorflow>=2.1.0 (from textgenrnn)\n",
      "\u001b[?25l  Downloading https://files.pythonhosted.org/packages/8a/05/f004a13fd50bf62ee06da0e0038d1027069058ccc4377bfccf35216d3449/tensorflow-2.2.0-cp36-cp36m-macosx_10_11_x86_64.whl (175.3MB)\n",
      "\u001b[K     |████████████████████████████████| 175.3MB 6.7MB/s \n",
      "\u001b[?25hRequirement already satisfied: numpy>=1.7 in /Users/joern/anaconda3/envs/Python36/lib/python3.6/site-packages (from h5py->textgenrnn) (1.16.4)\n",
      "Requirement already satisfied: six in /Users/joern/anaconda3/envs/Python36/lib/python3.6/site-packages (from h5py->textgenrnn) (1.12.0)\n",
      "Requirement already satisfied: scipy>=0.17.0 in /Users/joern/anaconda3/envs/Python36/lib/python3.6/site-packages (from scikit-learn->textgenrnn) (1.2.1)\n",
      "Requirement already satisfied: joblib>=0.11 in /Users/joern/anaconda3/envs/Python36/lib/python3.6/site-packages (from scikit-learn->textgenrnn) (0.13.2)\n",
      "Requirement already satisfied: pyyaml in /Users/joern/anaconda3/envs/Python36/lib/python3.6/site-packages (from keras->textgenrnn) (5.1)\n",
      "Requirement already satisfied: keras-applications>=1.0.6 in /Users/joern/anaconda3/envs/Python36/lib/python3.6/site-packages (from keras->textgenrnn) (1.0.8)\n",
      "Requirement already satisfied: keras-preprocessing>=1.0.5 in /Users/joern/anaconda3/envs/Python36/lib/python3.6/site-packages (from keras->textgenrnn) (1.1.0)\n",
      "Collecting astunparse==1.6.3 (from tensorflow>=2.1.0->textgenrnn)\n",
      "  Using cached https://files.pythonhosted.org/packages/2b/03/13dde6512ad7b4557eb792fbcf0c653af6076b81e5941d36ec61f7ce6028/astunparse-1.6.3-py2.py3-none-any.whl\n",
      "Collecting protobuf>=3.8.0 (from tensorflow>=2.1.0->textgenrnn)\n",
      "\u001b[?25l  Downloading https://files.pythonhosted.org/packages/4c/65/3ac73d6a9f31de4b45ebff6885e9a4ccd16eccb63764dd406140d337fabd/protobuf-3.11.3-cp36-cp36m-macosx_10_9_x86_64.whl (1.3MB)\n",
      "\u001b[K     |████████████████████████████████| 1.3MB 7.3MB/s \n",
      "\u001b[?25hCollecting tensorboard<2.3.0,>=2.2.0 (from tensorflow>=2.1.0->textgenrnn)\n",
      "  Using cached https://files.pythonhosted.org/packages/1d/fd/4f3ca1516cbb3713259ef229abd9314bba0077ef6070285dde0dd1ed21b2/tensorboard-2.2.1-py3-none-any.whl\n",
      "Collecting wrapt>=1.11.1 (from tensorflow>=2.1.0->textgenrnn)\n",
      "  Using cached https://files.pythonhosted.org/packages/82/f7/e43cefbe88c5fd371f4cf0cf5eb3feccd07515af9fd6cf7dbf1d1793a797/wrapt-1.12.1.tar.gz\n",
      "Collecting opt-einsum>=2.3.2 (from tensorflow>=2.1.0->textgenrnn)\n",
      "  Using cached https://files.pythonhosted.org/packages/63/a5/e6c07b08b934831ccb8c98ee335e66b7761c5754ee3cabfe4c11d0b1af28/opt_einsum-3.2.1-py3-none-any.whl\n",
      "Requirement already satisfied: grpcio>=1.8.6 in /Users/joern/anaconda3/envs/Python36/lib/python3.6/site-packages (from tensorflow>=2.1.0->textgenrnn) (1.16.1)\n",
      "Requirement already satisfied: absl-py>=0.7.0 in /Users/joern/anaconda3/envs/Python36/lib/python3.6/site-packages (from tensorflow>=2.1.0->textgenrnn) (0.7.1)\n",
      "Collecting google-pasta>=0.1.8 (from tensorflow>=2.1.0->textgenrnn)\n",
      "  Using cached https://files.pythonhosted.org/packages/a3/de/c648ef6835192e6e2cc03f40b19eeda4382c49b5bafb43d88b931c4c74ac/google_pasta-0.2.0-py3-none-any.whl\n",
      "Requirement already satisfied: termcolor>=1.1.0 in /Users/joern/anaconda3/envs/Python36/lib/python3.6/site-packages (from tensorflow>=2.1.0->textgenrnn) (1.1.0)\n",
      "Requirement already satisfied: wheel>=0.26; python_version >= \"3\" in /Users/joern/anaconda3/envs/Python36/lib/python3.6/site-packages (from tensorflow>=2.1.0->textgenrnn) (0.33.4)\n",
      "Collecting gast==0.3.3 (from tensorflow>=2.1.0->textgenrnn)\n",
      "  Using cached https://files.pythonhosted.org/packages/d6/84/759f5dd23fec8ba71952d97bcc7e2c9d7d63bdc582421f3cd4be845f0c98/gast-0.3.3-py2.py3-none-any.whl\n",
      "Collecting tensorflow-estimator<2.3.0,>=2.2.0 (from tensorflow>=2.1.0->textgenrnn)\n",
      "  Using cached https://files.pythonhosted.org/packages/a4/f5/926ae53d6a226ec0fda5208e0e581cffed895ccc89e36ba76a8e60895b78/tensorflow_estimator-2.2.0-py2.py3-none-any.whl\n",
      "Requirement already satisfied: setuptools in /Users/joern/anaconda3/envs/Python36/lib/python3.6/site-packages (from protobuf>=3.8.0->tensorflow>=2.1.0->textgenrnn) (41.0.1)\n",
      "Requirement already satisfied: werkzeug>=0.11.15 in /Users/joern/anaconda3/envs/Python36/lib/python3.6/site-packages (from tensorboard<2.3.0,>=2.2.0->tensorflow>=2.1.0->textgenrnn) (0.15.4)\n",
      "Collecting google-auth-oauthlib<0.5,>=0.4.1 (from tensorboard<2.3.0,>=2.2.0->tensorflow>=2.1.0->textgenrnn)\n",
      "  Using cached https://files.pythonhosted.org/packages/7b/b8/88def36e74bee9fce511c9519571f4e485e890093ab7442284f4ffaef60b/google_auth_oauthlib-0.4.1-py2.py3-none-any.whl\n",
      "Requirement already satisfied: requests<3,>=2.21.0 in /Users/joern/anaconda3/envs/Python36/lib/python3.6/site-packages (from tensorboard<2.3.0,>=2.2.0->tensorflow>=2.1.0->textgenrnn) (2.22.0)\n",
      "Collecting google-auth<2,>=1.6.3 (from tensorboard<2.3.0,>=2.2.0->tensorflow>=2.1.0->textgenrnn)\n",
      "  Using cached https://files.pythonhosted.org/packages/83/72/479a993ffb2a713419741278863db7d5aa995ff0e66dd354a8c38be3ff4f/google_auth-1.14.3-py2.py3-none-any.whl\n",
      "Requirement already satisfied: markdown>=2.6.8 in /Users/joern/anaconda3/envs/Python36/lib/python3.6/site-packages (from tensorboard<2.3.0,>=2.2.0->tensorflow>=2.1.0->textgenrnn) (3.1.1)\n",
      "Collecting tensorboard-plugin-wit>=1.6.0 (from tensorboard<2.3.0,>=2.2.0->tensorflow>=2.1.0->textgenrnn)\n",
      "  Using cached https://files.pythonhosted.org/packages/51/cd/a0c1f9e4582ea64dddf76c1b808b318d01e3b858a51c715bffab1016ecc7/tensorboard_plugin_wit-1.6.0.post3-py3-none-any.whl\n",
      "Collecting requests-oauthlib>=0.7.0 (from google-auth-oauthlib<0.5,>=0.4.1->tensorboard<2.3.0,>=2.2.0->tensorflow>=2.1.0->textgenrnn)\n",
      "  Downloading https://files.pythonhosted.org/packages/a3/12/b92740d845ab62ea4edf04d2f4164d82532b5a0b03836d4d4e71c6f3d379/requests_oauthlib-1.3.0-py2.py3-none-any.whl\n",
      "Requirement already satisfied: chardet<3.1.0,>=3.0.2 in /Users/joern/anaconda3/envs/Python36/lib/python3.6/site-packages (from requests<3,>=2.21.0->tensorboard<2.3.0,>=2.2.0->tensorflow>=2.1.0->textgenrnn) (3.0.4)\n",
      "Requirement already satisfied: certifi>=2017.4.17 in /Users/joern/anaconda3/envs/Python36/lib/python3.6/site-packages (from requests<3,>=2.21.0->tensorboard<2.3.0,>=2.2.0->tensorflow>=2.1.0->textgenrnn) (2019.9.11)\n",
      "Requirement already satisfied: idna<2.9,>=2.5 in /Users/joern/anaconda3/envs/Python36/lib/python3.6/site-packages (from requests<3,>=2.21.0->tensorboard<2.3.0,>=2.2.0->tensorflow>=2.1.0->textgenrnn) (2.8)\n",
      "Requirement already satisfied: urllib3!=1.25.0,!=1.25.1,<1.26,>=1.21.1 in /Users/joern/anaconda3/envs/Python36/lib/python3.6/site-packages (from requests<3,>=2.21.0->tensorboard<2.3.0,>=2.2.0->tensorflow>=2.1.0->textgenrnn) (1.24.2)\n",
      "Collecting cachetools<5.0,>=2.0.0 (from google-auth<2,>=1.6.3->tensorboard<2.3.0,>=2.2.0->tensorflow>=2.1.0->textgenrnn)\n",
      "  Using cached https://files.pythonhosted.org/packages/b3/59/524ffb454d05001e2be74c14745b485681c6ed5f2e625f71d135704c0909/cachetools-4.1.0-py3-none-any.whl\n",
      "Collecting pyasn1-modules>=0.2.1 (from google-auth<2,>=1.6.3->tensorboard<2.3.0,>=2.2.0->tensorflow>=2.1.0->textgenrnn)\n",
      "  Using cached https://files.pythonhosted.org/packages/95/de/214830a981892a3e286c3794f41ae67a4495df1108c3da8a9f62159b9a9d/pyasn1_modules-0.2.8-py2.py3-none-any.whl\n",
      "Collecting rsa<4.1,>=3.1.4 (from google-auth<2,>=1.6.3->tensorboard<2.3.0,>=2.2.0->tensorflow>=2.1.0->textgenrnn)\n",
      "  Downloading https://files.pythonhosted.org/packages/02/e5/38518af393f7c214357079ce67a317307936896e961e35450b70fad2a9cf/rsa-4.0-py2.py3-none-any.whl\n",
      "Collecting oauthlib>=3.0.0 (from requests-oauthlib>=0.7.0->google-auth-oauthlib<0.5,>=0.4.1->tensorboard<2.3.0,>=2.2.0->tensorflow>=2.1.0->textgenrnn)\n",
      "\u001b[?25l  Downloading https://files.pythonhosted.org/packages/05/57/ce2e7a8fa7c0afb54a0581b14a65b56e62b5759dbc98e80627142b8a3704/oauthlib-3.1.0-py2.py3-none-any.whl (147kB)\n",
      "\u001b[K     |████████████████████████████████| 153kB 9.5MB/s \n",
      "\u001b[?25hCollecting pyasn1<0.5.0,>=0.4.6 (from pyasn1-modules>=0.2.1->google-auth<2,>=1.6.3->tensorboard<2.3.0,>=2.2.0->tensorflow>=2.1.0->textgenrnn)\n",
      "\u001b[?25l  Downloading https://files.pythonhosted.org/packages/62/1e/a94a8d635fa3ce4cfc7f506003548d0a2447ae76fd5ca53932970fe3053f/pyasn1-0.4.8-py2.py3-none-any.whl (77kB)\n",
      "\u001b[K     |████████████████████████████████| 81kB 7.6MB/s \n",
      "\u001b[?25hBuilding wheels for collected packages: textgenrnn, wrapt\n",
      "  Building wheel for textgenrnn (setup.py) ... \u001b[?25ldone\n",
      "\u001b[?25h  Stored in directory: /Users/joern/Library/Caches/pip/wheels/d2/a3/54/64254fb9f530c33778cd1d4d57a7a2c2d6aebde97585a85893\n",
      "  Building wheel for wrapt (setup.py) ... \u001b[?25ldone\n",
      "\u001b[?25h  Stored in directory: /Users/joern/Library/Caches/pip/wheels/b1/c2/ed/d62208260edbd3fa7156545c00ef966f45f2063d0a84f8208a\n",
      "Successfully built textgenrnn wrapt\n",
      "\u001b[31mERROR: tensorflow 2.2.0 has requirement h5py<2.11.0,>=2.10.0, but you'll have h5py 2.9.0 which is incompatible.\u001b[0m\n",
      "\u001b[31mERROR: tensorflow 2.2.0 has requirement scipy==1.4.1; python_version >= \"3\", but you'll have scipy 1.2.1 which is incompatible.\u001b[0m\n",
      "\u001b[31mERROR: tensorboard 2.2.1 has requirement grpcio>=1.24.3, but you'll have grpcio 1.16.1 which is incompatible.\u001b[0m\n",
      "Installing collected packages: tqdm, keras, astunparse, protobuf, cachetools, pyasn1, pyasn1-modules, rsa, google-auth, oauthlib, requests-oauthlib, google-auth-oauthlib, tensorboard-plugin-wit, tensorboard, wrapt, opt-einsum, google-pasta, gast, tensorflow-estimator, tensorflow, textgenrnn\n",
      "  Found existing installation: protobuf 3.6.0\n",
      "    Uninstalling protobuf-3.6.0:\n",
      "      Successfully uninstalled protobuf-3.6.0\n",
      "  Found existing installation: tensorboard 1.13.1\n",
      "    Uninstalling tensorboard-1.13.1:\n",
      "      Successfully uninstalled tensorboard-1.13.1\n",
      "  Found existing installation: gast 0.2.2\n",
      "    Uninstalling gast-0.2.2:\n",
      "      Successfully uninstalled gast-0.2.2\n",
      "  Found existing installation: tensorflow-estimator 1.13.0\n",
      "    Uninstalling tensorflow-estimator-1.13.0:\n",
      "      Successfully uninstalled tensorflow-estimator-1.13.0\n",
      "  Found existing installation: tensorflow 1.13.1\n",
      "    Uninstalling tensorflow-1.13.1:\n",
      "      Successfully uninstalled tensorflow-1.13.1\n",
      "Successfully installed astunparse-1.6.3 cachetools-4.1.0 gast-0.3.3 google-auth-1.14.3 google-auth-oauthlib-0.4.1 google-pasta-0.2.0 keras-2.3.1 oauthlib-3.1.0 opt-einsum-3.2.1 protobuf-3.11.3 pyasn1-0.4.8 pyasn1-modules-0.2.8 requests-oauthlib-1.3.0 rsa-4.0 tensorboard-2.2.1 tensorboard-plugin-wit-1.6.0.post3 tensorflow-2.2.0 tensorflow-estimator-2.2.0 textgenrnn-2.0.0 tqdm-4.46.0 wrapt-1.12.1\n"
     ]
    }
   ],
   "source": [
    "!pip install textgenrnn"
   ]
  },
  {
   "cell_type": "code",
   "execution_count": 7,
   "metadata": {},
   "outputs": [
    {
     "name": "stderr",
     "output_type": "stream",
     "text": [
      "Using TensorFlow backend.\n"
     ]
    }
   ],
   "source": [
    "from textgenrnn import textgenrnn\n",
    "\n",
    "textgen = textgenrnn()"
   ]
  },
  {
   "cell_type": "code",
   "execution_count": 8,
   "metadata": {},
   "outputs": [
    {
     "name": "stdout",
     "output_type": "stream",
     "text": [
      "8,471 texts collected.\n",
      "Training on 250,287 character sequences.\n",
      "1955/1955 [==============================] - ETA: 0s - loss: 1.5786####################\n",
      "Temperature: 0.2\n",
      "####################\n",
      "I Said The But I Got The Parent I See The In The Maint I Got A Guy I Got A Good To Go A Guess Of The Poke Of You Are Sure The Only I Said The House And I Could A Problem To The March In The Api I Said I All A Good To Get A Stop A Stop The Matt A Singing To Get A Confirm Of My And The Boy I Got The \n",
      "\n",
      "I A Good And The Boy\n",
      "\n",
      "I Got A Good About The Metalling I See You A Google A Lol\n",
      "\n",
      "####################\n",
      "Temperature: 0.5\n",
      "####################\n",
      "No\n",
      "\n",
      "On The Only Actions\n",
      "\n",
      "I Need To Give You Have A Sex For The Plant Of Me The Api In The The Only In The Overwhoble And That Everybody I Ask You Seem Like I Wanted To Retrassing A Stop The Google On Me A Guess Are The Master As A Man The Not The Mother Than It Meant To Geo In The Parention At 180 Is A Mobile As What I Gue\n",
      "\n",
      "####################\n",
      "Temperature: 1.0\n",
      "####################\n",
      "I Have Not Even Need As Exactle I Think Would Is Pretty A Porn Bush Man An Hour An And I Just Missing Play\n",
      "\n",
      "Https\n",
      "\n",
      "I Came To 50 And Recording The Print Ask In The Hours Is Callahing It Purcle Sure\n",
      "\n",
      "1955/1955 [==============================] - 484s 247ms/step - loss: 1.5786 - lr: 0.0040\n"
     ]
    }
   ],
   "source": [
    "textgen.train_from_file('./output/J_messages.csv', num_epochs=1)"
   ]
  },
  {
   "cell_type": "code",
   "execution_count": 26,
   "metadata": {},
   "outputs": [
    {
     "name": "stderr",
     "output_type": "stream",
     "text": [
      " 20%|██        | 1/5 [00:00<00:03,  1.31it/s]"
     ]
    },
    {
     "name": "stdout",
     "output_type": "stream",
     "text": [
      "Dominaged The Cool The Aaron\n",
      "\n",
      "Dom\n",
      "\n"
     ]
    },
    {
     "name": "stderr",
     "output_type": "stream",
     "text": [
      " 60%|██████    | 3/5 [00:01<00:01,  1.48it/s]"
     ]
    },
    {
     "name": "stdout",
     "output_type": "stream",
     "text": [
      "Dom I Was A Year Of In The Boy\n",
      "\n"
     ]
    },
    {
     "name": "stderr",
     "output_type": "stream",
     "text": [
      " 80%|████████  | 4/5 [00:02<00:00,  1.45it/s]"
     ]
    },
    {
     "name": "stdout",
     "output_type": "stream",
     "text": [
      "Domes I Play The Api\n",
      "\n"
     ]
    },
    {
     "name": "stderr",
     "output_type": "stream",
     "text": [
      "100%|██████████| 5/5 [00:03<00:00,  1.45it/s]"
     ]
    },
    {
     "name": "stdout",
     "output_type": "stream",
     "text": [
      "Dom About You Are This A Good Though\n",
      "\n"
     ]
    },
    {
     "name": "stderr",
     "output_type": "stream",
     "text": [
      "\n"
     ]
    }
   ],
   "source": [
    "textgen.generate(5, prefix=\"Dom\")"
   ]
  },
  {
   "cell_type": "code",
   "execution_count": 10,
   "metadata": {},
   "outputs": [
    {
     "name": "stdout",
     "output_type": "stream",
     "text": [
      "####################\n",
      "Temperature: 0.2\n",
      "####################\n",
      "I A Good To See The Of The Start And The Api I Got The Product And I Said I Got A Good To The Only In The Man And I All I See The Api I Got A Stop The Point Of The Same Of The Guy I Said The Poker And The Gurse I Got A Stop A Good For A You Are The March And I All I Stopped To Get The Poker And The\n",
      "\n",
      "I A Good And The Same The Api I Said I Have To See It A Stop A Good In The Man And The But I Got A Good And The Guy I Said I Think I All I Got A Good Of The Only Of You Are In The Only Of The Same Of The Hour And I All I Got The Same And The Guy I Said I Said I Could Get The Same Of My Group And I \n",
      "\n",
      "I A Good To Get Me That I Have A Good And The Only Of The Products And I A Problem And Then I Could Get The Guy I Got The Api I Said The Guy I A Good And The Same I Think I All I Got The Only I Said I Said I Got A Send The Google Thing To Stop A Good To The Product And I A Good To Get The Own And I\n",
      "\n",
      "####################\n",
      "Temperature: 0.5\n",
      "####################\n",
      "Thanks\n",
      "\n",
      "I A Consultation On My Uni As In The Plant The Ethics Or Google Of The Corona\n",
      "\n",
      "I Think I All Overwhils On It A You How I Think I Think I Thought It I A Product Of I Want Me This\n",
      "\n",
      "####################\n",
      "Temperature: 1.0\n",
      "####################\n",
      "D World Meanwice Reparting In A And The Plane Brievin Action Even Protestop\n",
      "\n",
      "Probably Dus Them Lol\n",
      "\n",
      "Seems Dog For 5 Months Guy\n",
      "\n"
     ]
    }
   ],
   "source": [
    "textgen_2 = textgenrnn('textgenrnn_weights.hdf5')\n",
    "textgen_2.generate_samples()"
   ]
  }
 ],
 "metadata": {
  "kernelspec": {
   "display_name": "Python 3",
   "language": "python",
   "name": "python3"
  },
  "language_info": {
   "codemirror_mode": {
    "name": "ipython",
    "version": 3
   },
   "file_extension": ".py",
   "mimetype": "text/x-python",
   "name": "python",
   "nbconvert_exporter": "python",
   "pygments_lexer": "ipython3",
   "version": "3.6.8"
  }
 },
 "nbformat": 4,
 "nbformat_minor": 2
}
